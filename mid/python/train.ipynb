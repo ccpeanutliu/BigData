{
 "cells": [
  {
   "cell_type": "code",
   "execution_count": 1,
   "metadata": {},
   "outputs": [
    {
     "name": "stderr",
     "output_type": "stream",
     "text": [
      "Using TensorFlow backend.\n"
     ]
    }
   ],
   "source": [
    "import keras\n",
    "import pandas as pd\n",
    "import numpy as np\n",
    "from gensim.models.word2vec import Word2Vec\n",
    "from keras.preprocessing.sequence import pad_sequences\n",
    "from keras.utils import to_categorical\n",
    "from keras.models import Sequential, load_model\n",
    "from keras.layers import *\n",
    "from keras.layers.normalization import BatchNormalization\n",
    "from sklearn.metrics import confusion_matrix as cm\n",
    "from sklearn.model_selection import train_test_split\n",
    "from sklearn.linear_model import LogisticRegression\n",
    "from sklearn.neighbors import KNeighborsClassifier\n",
    "from keras.callbacks import ModelCheckpoint, EarlyStopping, ReduceLROnPlateau"
   ]
  },
  {
   "cell_type": "markdown",
   "metadata": {},
   "source": [
    "### 分割成train跟test"
   ]
  },
  {
   "cell_type": "code",
   "execution_count": 2,
   "metadata": {},
   "outputs": [
    {
     "name": "stdout",
     "output_type": "stream",
     "text": [
      "(125058, 2)\n",
      "(125058,)\n",
      "(100046,)\n"
     ]
    }
   ],
   "source": [
    "data = np.load('train.npy', allow_pickle = True)[:,0:2]\n",
    "print(data.shape)\n",
    "y_train = np.load('train.npy', allow_pickle=True)[:,3]\n",
    "label = y_train\n",
    "print(y_train.shape)\n",
    "data, data_test, y_train, y_test = train_test_split(data, y_train, test_size=0.2, random_state=42)\n",
    "month = data[:,1]\n",
    "month_test = data_test[:,1]\n",
    "data = data[:,0]\n",
    "data_test = data_test[:,0]\n",
    "print(month.shape)"
   ]
  },
  {
   "cell_type": "markdown",
   "metadata": {},
   "source": [
    "### 製作word2vec、RNN的Embedding layer\n",
    "\n",
    "這邊也會跑很久來產生model，所以我就直接讀取之前存好的"
   ]
  },
  {
   "cell_type": "code",
   "execution_count": 3,
   "metadata": {},
   "outputs": [
    {
     "name": "stdout",
     "output_type": "stream",
     "text": [
      "Shape: (100046, 100)\n",
      "Sample: [ 151 5110 5779  180    0 5780 2605 1698    0 1371 2112 2697 5778 5781\n",
      "    0 1199  100 5778    0  171 5782 5783 5784  133 1203 1074 5783 5785\n",
      " 5786 5787    0 3363 5788    0 1369  382 4906 3678 1241    0  919  920\n",
      " 2098 5789  151  382 4121 5790 5791  242 5792 1333 1570  977    0  900\n",
      " 5734 5778 2104  100 5793  177  178  179  180  181  182  183  184  185\n",
      "  186  187  188  189  190  191  192  193  194  195  196  197  198  199\n",
      "  200  201  202  203  204  205  206  207  208  209  210  211  212  178\n",
      "  213  214]\n"
     ]
    }
   ],
   "source": [
    "#w2v_model = Word2Vec(data,min_count = 10, size=250, sg = 1, iter = 10)#, negative = 3)\n",
    "#w2v_model.save(\"w2v.model\")\n",
    "w2v_model = Word2Vec.load(\"w2v.model\")\n",
    "embedding_matrix = np.zeros((len(w2v_model.wv.vocab.items()) + 1, w2v_model.vector_size))\n",
    "word2idx = {}\n",
    "\n",
    "vocab_list = [(word, w2v_model.wv[word]) for word, _ in w2v_model.wv.vocab.items()]\n",
    "for i, vocab in enumerate(vocab_list):\n",
    "    word, vec = vocab\n",
    "    embedding_matrix[i + 1] = vec\n",
    "    word2idx[word] = i + 1\n",
    "\n",
    "    embedding_layer = Embedding(input_dim=embedding_matrix.shape[0],\n",
    "                            output_dim=embedding_matrix.shape[1],\n",
    "                            mask_zero=True,\n",
    "                            weights=[embedding_matrix],\n",
    "                            trainable=True)\n",
    "\n",
    "def text_to_index(corpus):\n",
    "    new_corpus = []\n",
    "    for doc in corpus:\n",
    "        new_doc = []\n",
    "        for word in doc:\n",
    "            try:\n",
    "                new_doc.append(word2idx[word])\n",
    "            except:\n",
    "                new_doc.append(0)\n",
    "        new_corpus.append(new_doc)\n",
    "    return np.array(new_corpus)\n",
    "\n",
    "PADDING_LENGTH = 100\n",
    "x_train = text_to_index(data)\n",
    "x_train = pad_sequences(x_train, maxlen=PADDING_LENGTH)\n",
    "x_test = text_to_index(data_test)\n",
    "x_test = pad_sequences(x_test, maxlen=PADDING_LENGTH)\n",
    "print(\"Shape:\", x_train.shape)\n",
    "print(\"Sample:\", x_train[100])"
   ]
  },
  {
   "cell_type": "markdown",
   "metadata": {},
   "source": [
    "### 將分割好的train跟test存成npy，方便之後使用"
   ]
  },
  {
   "cell_type": "code",
   "execution_count": null,
   "metadata": {},
   "outputs": [],
   "source": [
    "np.save('x_train.npy',x_train)\n",
    "np.save('y_train.npy',y_train)\n",
    "np.save('x_test.npy',x_test)\n",
    "np.save('y_test.npy',y_test)"
   ]
  },
  {
   "cell_type": "markdown",
   "metadata": {},
   "source": [
    "## RNN model的製作\n",
    "每次的train跟test都不一樣，所以我拿之前存的"
   ]
  },
  {
   "cell_type": "code",
   "execution_count": 4,
   "metadata": {},
   "outputs": [],
   "source": [
    "x_train = np.load('x_train.npy', allow_pickle = True)\n",
    "x_test = np.load('x_test.npy', allow_pickle = True)\n",
    "y_train = np.load('y_train.npy', allow_pickle = True)\n",
    "y_test = np.load('y_test.npy', allow_pickle = True)\n",
    "def rnn_model():\n",
    "    model = Sequential()\n",
    "    model.add(embedding_layer)\n",
    "    model.add(GRU(16,activation='tanh', return_sequences = True))\n",
    "    model.add(Dropout(0.3))\n",
    "    model.add(GRU(16))\n",
    "    model.add(Dropout(0.3))\n",
    "    model.add(Dense(32))\n",
    "    model.add(Dropout(0.3))\n",
    "    model.add(Dense(64))\n",
    "    model.add(Dropout(0.3))\n",
    "    model.add(Dense(128))\n",
    "    model.add(Dropout(0.3))\n",
    "    model.add(Dense(1, activation='sigmoid'))\n",
    "    \n",
    "    model.compile(optimizer='adam',\n",
    "                  loss='binary_crossentropy',\n",
    "                  metrics=['accuracy'])\n",
    "    return model"
   ]
  },
  {
   "cell_type": "code",
   "execution_count": 5,
   "metadata": {},
   "outputs": [],
   "source": [
    "model = rnn_model()"
   ]
  },
  {
   "cell_type": "markdown",
   "metadata": {},
   "source": [
    "### 開始train，然後利用callback function幫忙找出最優model\n",
    "要train很久，一樣不跑"
   ]
  },
  {
   "cell_type": "code",
   "execution_count": 25,
   "metadata": {},
   "outputs": [
    {
     "name": "stdout",
     "output_type": "stream",
     "text": [
      "Model: \"sequential_7\"\n",
      "_________________________________________________________________\n",
      "Layer (type)                 Output Shape              Param #   \n",
      "=================================================================\n",
      "embedding_71470 (Embedding)  (None, None, 250)         17867750  \n",
      "_________________________________________________________________\n",
      "gru_11 (GRU)                 (None, None, 16)          12816     \n",
      "_________________________________________________________________\n",
      "dropout_26 (Dropout)         (None, None, 16)          0         \n",
      "_________________________________________________________________\n",
      "gru_12 (GRU)                 (None, 16)                1584      \n",
      "_________________________________________________________________\n",
      "dropout_27 (Dropout)         (None, 16)                0         \n",
      "_________________________________________________________________\n",
      "dense_21 (Dense)             (None, 32)                544       \n",
      "_________________________________________________________________\n",
      "dropout_28 (Dropout)         (None, 32)                0         \n",
      "_________________________________________________________________\n",
      "dense_22 (Dense)             (None, 64)                2112      \n",
      "_________________________________________________________________\n",
      "dropout_29 (Dropout)         (None, 64)                0         \n",
      "_________________________________________________________________\n",
      "dense_23 (Dense)             (None, 128)               8320      \n",
      "_________________________________________________________________\n",
      "dropout_30 (Dropout)         (None, 128)               0         \n",
      "_________________________________________________________________\n",
      "dense_24 (Dense)             (None, 1)                 129       \n",
      "=================================================================\n",
      "Total params: 17,893,255\n",
      "Trainable params: 17,893,255\n",
      "Non-trainable params: 0\n",
      "_________________________________________________________________\n"
     ]
    },
    {
     "name": "stderr",
     "output_type": "stream",
     "text": [
      "/home/cior5757e/anaconda3/lib/python3.7/site-packages/keras/callbacks/callbacks.py:998: UserWarning: `epsilon` argument is deprecated and will be removed, use `min_delta` instead.\n",
      "  warnings.warn('`epsilon` argument is deprecated and '\n",
      "/home/cior5757e/anaconda3/lib/python3.7/site-packages/tensorflow_core/python/framework/indexed_slices.py:433: UserWarning: Converting sparse IndexedSlices to a dense Tensor of unknown shape. This may consume a large amount of memory.\n",
      "  \"Converting sparse IndexedSlices to a dense Tensor of unknown shape. \"\n"
     ]
    },
    {
     "name": "stdout",
     "output_type": "stream",
     "text": [
      "Train on 90041 samples, validate on 10005 samples\n",
      "Epoch 1/20\n",
      "90041/90041 [==============================] - 56s 620us/step - loss: 0.7178 - accuracy: 0.5083 - val_loss: 0.7114 - val_accuracy: 0.5337\n",
      "Epoch 2/20\n",
      "90041/90041 [==============================] - 54s 598us/step - loss: 0.7137 - accuracy: 0.5179 - val_loss: 0.7105 - val_accuracy: 0.5368\n",
      "Epoch 3/20\n",
      "90041/90041 [==============================] - 55s 607us/step - loss: 0.7131 - accuracy: 0.5211 - val_loss: 0.7090 - val_accuracy: 0.5457\n",
      "Epoch 4/20\n",
      "90041/90041 [==============================] - 53s 593us/step - loss: 0.7110 - accuracy: 0.5338 - val_loss: 0.7064 - val_accuracy: 0.5530\n",
      "Epoch 5/20\n",
      "90041/90041 [==============================] - 54s 601us/step - loss: 0.7076 - accuracy: 0.5491 - val_loss: 0.7037 - val_accuracy: 0.5601\n",
      "Epoch 6/20\n",
      "90041/90041 [==============================] - 55s 616us/step - loss: 0.7034 - accuracy: 0.5554 - val_loss: 0.6998 - val_accuracy: 0.5684\n",
      "Epoch 7/20\n",
      "90041/90041 [==============================] - 55s 611us/step - loss: 0.6975 - accuracy: 0.5754 - val_loss: 0.6938 - val_accuracy: 0.5744\n",
      "Epoch 8/20\n",
      "90041/90041 [==============================] - 54s 600us/step - loss: 0.6873 - accuracy: 0.5920 - val_loss: 0.6889 - val_accuracy: 0.5701\n",
      "Epoch 9/20\n",
      "90041/90041 [==============================] - 55s 615us/step - loss: 0.6726 - accuracy: 0.6106 - val_loss: 0.6756 - val_accuracy: 0.6042\n",
      "Epoch 10/20\n",
      "90041/90041 [==============================] - 55s 609us/step - loss: 0.6508 - accuracy: 0.6338 - val_loss: 0.6739 - val_accuracy: 0.6088\n",
      "Epoch 11/20\n",
      "90041/90041 [==============================] - 55s 611us/step - loss: 0.6362 - accuracy: 0.6495 - val_loss: 0.6825 - val_accuracy: 0.5905\n",
      "Epoch 12/20\n",
      "90041/90041 [==============================] - 55s 612us/step - loss: 0.6210 - accuracy: 0.6663 - val_loss: 0.6673 - val_accuracy: 0.6047\n",
      "Epoch 13/20\n",
      "90041/90041 [==============================] - 56s 619us/step - loss: 0.5967 - accuracy: 0.6814 - val_loss: 0.6726 - val_accuracy: 0.6157\n",
      "Epoch 14/20\n",
      "90041/90041 [==============================] - 56s 618us/step - loss: 0.5757 - accuracy: 0.6962 - val_loss: 0.6690 - val_accuracy: 0.6282\n",
      "Epoch 15/20\n",
      "90041/90041 [==============================] - 55s 611us/step - loss: 0.5582 - accuracy: 0.7102 - val_loss: 0.6756 - val_accuracy: 0.6310\n",
      "\n",
      "Epoch 00015: ReduceLROnPlateau reducing learning rate to 0.00010000000474974513.\n",
      "Epoch 16/20\n",
      "90041/90041 [==============================] - 55s 613us/step - loss: 0.5427 - accuracy: 0.7203 - val_loss: 0.6776 - val_accuracy: 0.6258\n",
      "Epoch 17/20\n",
      "90041/90041 [==============================] - 55s 610us/step - loss: 0.5394 - accuracy: 0.7205 - val_loss: 0.6809 - val_accuracy: 0.6288\n"
     ]
    },
    {
     "data": {
      "text/plain": [
       "<keras.callbacks.callbacks.History at 0x7f59539df550>"
      ]
     },
     "execution_count": 25,
     "metadata": {},
     "output_type": "execute_result"
    }
   ],
   "source": [
    "np.random.seed(1230)\n",
    "model.summary()\n",
    "earlyStopping = EarlyStopping(monitor='val_loss', patience=5, verbose=0, mode='min')\n",
    "mcp_save = ModelCheckpoint('./model/mdl_wts.hdf5', save_best_only=True, monitor='val_accuracy', mode='max')\n",
    "reduce_lr_loss = ReduceLROnPlateau(monitor='val_loss', factor=0.1, patience=3, verbose=1, epsilon=1e-4, mode='min')\n",
    "\n",
    "model.fit(x=x_train, y=y_train, batch_size=10000, epochs=20, shuffle = True, class_weight={0:1.06, 1:1},\n",
    "          validation_split = 0.1, callbacks=[earlyStopping, mcp_save, reduce_lr_loss])"
   ]
  },
  {
   "cell_type": "markdown",
   "metadata": {},
   "source": [
    "### 預測test data、並印出準確率、confusion matrix\n",
    "拿之前跑好的model"
   ]
  },
  {
   "cell_type": "code",
   "execution_count": 6,
   "metadata": {},
   "outputs": [
    {
     "name": "stderr",
     "output_type": "stream",
     "text": [
      "/home/cior5757e/anaconda3/lib/python3.7/site-packages/tensorflow_core/python/framework/indexed_slices.py:433: UserWarning: Converting sparse IndexedSlices to a dense Tensor of unknown shape. This may consume a large amount of memory.\n",
      "  \"Converting sparse IndexedSlices to a dense Tensor of unknown shape. \"\n"
     ]
    },
    {
     "name": "stdout",
     "output_type": "stream",
     "text": [
      "整體準確率: 0.6027906604829681\n",
      "對於漲的資料的預測準確率: 0.5950132225160559\n",
      "對於跌的資料的預測準確率: 0.6115309501570858\n"
     ]
    },
    {
     "data": {
      "text/html": [
       "<div>\n",
       "<style scoped>\n",
       "    .dataframe tbody tr th:only-of-type {\n",
       "        vertical-align: middle;\n",
       "    }\n",
       "\n",
       "    .dataframe tbody tr th {\n",
       "        vertical-align: top;\n",
       "    }\n",
       "\n",
       "    .dataframe thead th {\n",
       "        text-align: right;\n",
       "    }\n",
       "</style>\n",
       "<table border=\"1\" class=\"dataframe\">\n",
       "  <thead>\n",
       "    <tr style=\"text-align: right;\">\n",
       "      <th></th>\n",
       "      <th>真實為漲</th>\n",
       "      <th>真實為跌</th>\n",
       "    </tr>\n",
       "  </thead>\n",
       "  <tbody>\n",
       "    <tr>\n",
       "      <th>預測為漲</th>\n",
       "      <td>7875</td>\n",
       "      <td>4575</td>\n",
       "    </tr>\n",
       "    <tr>\n",
       "      <th>預測為跌</th>\n",
       "      <td>5360</td>\n",
       "      <td>7202</td>\n",
       "    </tr>\n",
       "  </tbody>\n",
       "</table>\n",
       "</div>"
      ],
      "text/plain": [
       "      真實為漲  真實為跌\n",
       "預測為漲  7875  4575\n",
       "預測為跌  5360  7202"
      ]
     },
     "execution_count": 6,
     "metadata": {},
     "output_type": "execute_result"
    }
   ],
   "source": [
    "model = load_model('./model/GRU.h5')\n",
    "output = model.predict(x_test)\n",
    "tmp = []\n",
    "for i in output:\n",
    "    if i[0] > 0.5:\n",
    "        tmp.append(1)\n",
    "    else:\n",
    "        tmp.append(0)\n",
    "output = np.array(tmp)\n",
    "y_test = y_test.astype('int')\n",
    "y_train = y_train.astype('int')\n",
    "tn, fp, fn, tp = cm(y_test, output).ravel()\n",
    "result = pd.DataFrame([[tp, fp], [fn, tn]], columns = ['真實為漲', '真實為跌'])\n",
    "result.index = ['預測為漲', '預測為跌']\n",
    "print('整體準確率:',(sum(output == y_test)/y_test.shape)[0])\n",
    "print('對於漲的資料的預測準確率:', tp/(tp+fn))\n",
    "print('對於跌的資料的預測準確率:', tn/(tn+fp))\n",
    "result"
   ]
  },
  {
   "cell_type": "markdown",
   "metadata": {},
   "source": [
    "### 將model存起來方便之後使用"
   ]
  },
  {
   "cell_type": "code",
   "execution_count": 30,
   "metadata": {},
   "outputs": [],
   "source": [
    "model.save('GRU.h5')"
   ]
  }
 ],
 "metadata": {
  "kernelspec": {
   "display_name": "Python 3",
   "language": "python",
   "name": "python3"
  },
  "language_info": {
   "codemirror_mode": {
    "name": "ipython",
    "version": 3
   },
   "file_extension": ".py",
   "mimetype": "text/x-python",
   "name": "python",
   "nbconvert_exporter": "python",
   "pygments_lexer": "ipython3",
   "version": "3.7.6"
  }
 },
 "nbformat": 4,
 "nbformat_minor": 4
}
