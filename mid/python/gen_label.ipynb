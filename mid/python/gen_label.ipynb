{
 "cells": [
  {
   "cell_type": "code",
   "execution_count": 1,
   "metadata": {},
   "outputs": [],
   "source": [
    "import numpy as np\n",
    "import pandas as pd\n",
    "from datetime import datetime\n",
    "import time"
   ]
  },
  {
   "cell_type": "code",
   "execution_count": 2,
   "metadata": {},
   "outputs": [
    {
     "data": {
      "text/html": [
       "<div>\n",
       "<style scoped>\n",
       "    .dataframe tbody tr th:only-of-type {\n",
       "        vertical-align: middle;\n",
       "    }\n",
       "\n",
       "    .dataframe tbody tr th {\n",
       "        vertical-align: top;\n",
       "    }\n",
       "\n",
       "    .dataframe thead th {\n",
       "        text-align: right;\n",
       "    }\n",
       "</style>\n",
       "<table border=\"1\" class=\"dataframe\">\n",
       "  <thead>\n",
       "    <tr style=\"text-align: right;\">\n",
       "      <th></th>\n",
       "      <th>post_time</th>\n",
       "      <th>title</th>\n",
       "      <th>content</th>\n",
       "    </tr>\n",
       "  </thead>\n",
       "  <tbody>\n",
       "    <tr>\n",
       "      <th>0</th>\n",
       "      <td>2016/1/1 00:06:00</td>\n",
       "      <td>淪落的2015 竟是78年來最難獲利的一年</td>\n",
       "      <td>鉅亨網編譯郭照青這一年，獲利真是難上難。&lt;BR&gt;根據CNBC分析報導，興業銀行的數據顯示，2...</td>\n",
       "    </tr>\n",
       "    <tr>\n",
       "      <th>1</th>\n",
       "      <td>2016/1/1 00:52:00</td>\n",
       "      <td>美股盤中─今年最後交易日 道瓊大跌逾150點 注意油價走勢</td>\n",
       "      <td>鉅亨網編譯郭照青今日為2015年最後交易日，美國股市中場走低，投資人注意油價走勢。&lt;BR&gt;道...</td>\n",
       "    </tr>\n",
       "    <tr>\n",
       "      <th>2</th>\n",
       "      <td>2016/1/1 01:21:00</td>\n",
       "      <td>2016年 原油將突破每桶80美元</td>\n",
       "      <td>鉅亨網編譯郭照青根據路透社分析師Andy Critchlow指出，原油價格下一波的大幅走勢將...</td>\n",
       "    </tr>\n",
       "    <tr>\n",
       "      <th>3</th>\n",
       "      <td>2016/1/1 02:44:00</td>\n",
       "      <td>2015年 美國近70%投資人賠錢</td>\n",
       "      <td>鉅亨網編譯郭照青拜拜了，2015年。&lt;BR&gt;根據CNNMoney分析報導，應用程式Openf...</td>\n",
       "    </tr>\n",
       "    <tr>\n",
       "      <th>4</th>\n",
       "      <td>2016/1/1 03:30:00</td>\n",
       "      <td>【歐股盤後】全面收黑</td>\n",
       "      <td>（中央社台北2016年1月1日電）歐洲股市31日封關，三大股市全都收黑，倫敦股市提早收盤，金...</td>\n",
       "    </tr>\n",
       "    <tr>\n",
       "      <th>...</th>\n",
       "      <td>...</td>\n",
       "      <td>...</td>\n",
       "      <td>...</td>\n",
       "    </tr>\n",
       "    <tr>\n",
       "      <th>247268</th>\n",
       "      <td>2018/12/31 20:55:00</td>\n",
       "      <td>威力彩第107105期開獎</td>\n",
       "      <td>（中央社台北2018年12月31日電）威力彩第107105期今晚開獎，第一區中獎號碼為11、...</td>\n",
       "    </tr>\n",
       "    <tr>\n",
       "      <th>247269</th>\n",
       "      <td>2018/12/31 21:42:00</td>\n",
       "      <td>亞股今年失血160兆元 表現7年來最糟</td>\n",
       "      <td>（中央社香港2018年12月31日綜合外電報導）亞洲股市今年表現戲劇化，上半年屢創新高、交易...</td>\n",
       "    </tr>\n",
       "    <tr>\n",
       "      <th>247270</th>\n",
       "      <td>2018/12/31 22:11:00</td>\n",
       "      <td>雙贏彩第107217期頭獎1注中獎</td>\n",
       "      <td>（中央社台北2018年12月31日電）雙贏彩第107217期今晚開獎，中獎號碼為02、10、...</td>\n",
       "    </tr>\n",
       "    <tr>\n",
       "      <th>247271</th>\n",
       "      <td>2018/12/31 22:11:00</td>\n",
       "      <td>今彩539第107313期 頭獎1注中獎</td>\n",
       "      <td>（中央社台北2018年12月31日電）今彩539第107313期開獎，中獎號碼30、21、1...</td>\n",
       "    </tr>\n",
       "    <tr>\n",
       "      <th>247272</th>\n",
       "      <td>2018/12/31 22:11:00</td>\n",
       "      <td>威力彩第107105期頭獎摃龜</td>\n",
       "      <td>（中央社台北2018年12月31日電）威力彩第107105期今晚開獎，第一區中獎號碼為11、...</td>\n",
       "    </tr>\n",
       "  </tbody>\n",
       "</table>\n",
       "<p>247273 rows × 3 columns</p>\n",
       "</div>"
      ],
      "text/plain": [
       "                  post_time                          title  \\\n",
       "0         2016/1/1 00:06:00          淪落的2015 竟是78年來最難獲利的一年   \n",
       "1         2016/1/1 00:52:00  美股盤中─今年最後交易日 道瓊大跌逾150點 注意油價走勢   \n",
       "2         2016/1/1 01:21:00              2016年 原油將突破每桶80美元   \n",
       "3         2016/1/1 02:44:00              2015年 美國近70%投資人賠錢   \n",
       "4         2016/1/1 03:30:00                     【歐股盤後】全面收黑   \n",
       "...                     ...                            ...   \n",
       "247268  2018/12/31 20:55:00                  威力彩第107105期開獎   \n",
       "247269  2018/12/31 21:42:00            亞股今年失血160兆元 表現7年來最糟   \n",
       "247270  2018/12/31 22:11:00              雙贏彩第107217期頭獎1注中獎   \n",
       "247271  2018/12/31 22:11:00           今彩539第107313期 頭獎1注中獎   \n",
       "247272  2018/12/31 22:11:00                威力彩第107105期頭獎摃龜   \n",
       "\n",
       "                                                  content  \n",
       "0       鉅亨網編譯郭照青這一年，獲利真是難上難。<BR>根據CNBC分析報導，興業銀行的數據顯示，2...  \n",
       "1       鉅亨網編譯郭照青今日為2015年最後交易日，美國股市中場走低，投資人注意油價走勢。<BR>道...  \n",
       "2       鉅亨網編譯郭照青根據路透社分析師Andy Critchlow指出，原油價格下一波的大幅走勢將...  \n",
       "3       鉅亨網編譯郭照青拜拜了，2015年。<BR>根據CNNMoney分析報導，應用程式Openf...  \n",
       "4       （中央社台北2016年1月1日電）歐洲股市31日封關，三大股市全都收黑，倫敦股市提早收盤，金...  \n",
       "...                                                   ...  \n",
       "247268  （中央社台北2018年12月31日電）威力彩第107105期今晚開獎，第一區中獎號碼為11、...  \n",
       "247269  （中央社香港2018年12月31日綜合外電報導）亞洲股市今年表現戲劇化，上半年屢創新高、交易...  \n",
       "247270  （中央社台北2018年12月31日電）雙贏彩第107217期今晚開獎，中獎號碼為02、10、...  \n",
       "247271  （中央社台北2018年12月31日電）今彩539第107313期開獎，中獎號碼30、21、1...  \n",
       "247272  （中央社台北2018年12月31日電）威力彩第107105期今晚開獎，第一區中獎號碼為11、...  \n",
       "\n",
       "[247273 rows x 3 columns]"
      ]
     },
     "execution_count": 2,
     "metadata": {},
     "output_type": "execute_result"
    }
   ],
   "source": [
    "news = pd.read_csv('./news.csv', encoding = 'big5')[['post_time', 'title', 'content']]\n",
    "news"
   ]
  },
  {
   "cell_type": "code",
   "execution_count": 3,
   "metadata": {},
   "outputs": [
    {
     "name": "stdout",
     "output_type": "stream",
     "text": [
      "(244, 14)\n",
      "(246, 14)\n",
      "(237, 14)\n",
      "(727, 14)\n",
      "Index(['證券代碼', '年月日', '開盤價', '收盤價', '股價變化', '五天後', '三天後', '十天後', '五天後變化',\n",
      "       '三天後變化', '十天後變化', '五天後漲', '三天後漲', '十天後漲'],\n",
      "      dtype='object')\n"
     ]
    }
   ],
   "source": [
    "stock_2016 = pd.read_csv('./label_date/2016.csv')\n",
    "stock_2017 = pd.read_csv('./label_date/2017.csv')\n",
    "stock_2018 = pd.read_csv('./label_date/2018.csv')\n",
    "stock = stock_2018\n",
    "stock = stock.append(stock_2017)\n",
    "stock = stock.append(stock_2016)\n",
    "stock.index = list(range(stock.shape[0]))\n",
    "print(stock_2016.shape)\n",
    "print(stock_2017.shape)\n",
    "print(stock_2018.shape)\n",
    "print(stock.shape)\n",
    "print(stock.columns)"
   ]
  },
  {
   "cell_type": "markdown",
   "metadata": {},
   "source": [
    "## 下面會跑比較久，我大概跑一下就好。"
   ]
  },
  {
   "cell_type": "code",
   "execution_count": 4,
   "metadata": {},
   "outputs": [
    {
     "name": "stdout",
     "output_type": "stream",
     "text": [
      "0 0.0004036426544189453\n",
      "5000 58.15916728973389\n"
     ]
    },
    {
     "ename": "KeyboardInterrupt",
     "evalue": "",
     "output_type": "error",
     "traceback": [
      "\u001b[0;31m---------------------------------------------------------------------------\u001b[0m",
      "\u001b[0;31mKeyboardInterrupt\u001b[0m                         Traceback (most recent call last)",
      "\u001b[0;32m<ipython-input-4-bbd3116ea252>\u001b[0m in \u001b[0;36m<module>\u001b[0;34m\u001b[0m\n\u001b[1;32m     11\u001b[0m     \u001b[0mtmp_1\u001b[0m \u001b[0;34m=\u001b[0m \u001b[0mtmp_1\u001b[0m\u001b[0;34m[\u001b[0m\u001b[0;34m:\u001b[0m\u001b[0;36m10\u001b[0m\u001b[0;34m]\u001b[0m\u001b[0;34m\u001b[0m\u001b[0;34m\u001b[0m\u001b[0m\n\u001b[1;32m     12\u001b[0m     \u001b[0;32mfor\u001b[0m \u001b[0mj\u001b[0m \u001b[0;32min\u001b[0m \u001b[0mrange\u001b[0m\u001b[0;34m(\u001b[0m\u001b[0mstock\u001b[0m\u001b[0;34m.\u001b[0m\u001b[0mshape\u001b[0m\u001b[0;34m[\u001b[0m\u001b[0;36m0\u001b[0m\u001b[0;34m]\u001b[0m\u001b[0;34m)\u001b[0m\u001b[0;34m:\u001b[0m\u001b[0;34m\u001b[0m\u001b[0;34m\u001b[0m\u001b[0m\n\u001b[0;32m---> 13\u001b[0;31m         \u001b[0mtmp_2\u001b[0m \u001b[0;34m=\u001b[0m \u001b[0mstock\u001b[0m\u001b[0;34m[\u001b[0m\u001b[0;34m'年月日'\u001b[0m\u001b[0;34m]\u001b[0m\u001b[0;34m[\u001b[0m\u001b[0mj\u001b[0m\u001b[0;34m]\u001b[0m\u001b[0;34m[\u001b[0m\u001b[0;34m:\u001b[0m\u001b[0;36m10\u001b[0m\u001b[0;34m]\u001b[0m\u001b[0;34m\u001b[0m\u001b[0;34m\u001b[0m\u001b[0m\n\u001b[0m\u001b[1;32m     14\u001b[0m         \u001b[0;31m#print(tmp_2)\u001b[0m\u001b[0;34m\u001b[0m\u001b[0;34m\u001b[0m\u001b[0;34m\u001b[0m\u001b[0m\n\u001b[1;32m     15\u001b[0m         \u001b[0;32mif\u001b[0m \u001b[0mtmp_1\u001b[0m \u001b[0;34m==\u001b[0m \u001b[0mtmp_2\u001b[0m\u001b[0;34m:\u001b[0m\u001b[0;34m\u001b[0m\u001b[0;34m\u001b[0m\u001b[0m\n",
      "\u001b[0;32m~/anaconda3/lib/python3.7/site-packages/pandas/core/series.py\u001b[0m in \u001b[0;36m__getitem__\u001b[0;34m(self, key)\u001b[0m\n\u001b[1;32m    869\u001b[0m         \u001b[0mkey\u001b[0m \u001b[0;34m=\u001b[0m \u001b[0mcom\u001b[0m\u001b[0;34m.\u001b[0m\u001b[0mapply_if_callable\u001b[0m\u001b[0;34m(\u001b[0m\u001b[0mkey\u001b[0m\u001b[0;34m,\u001b[0m \u001b[0mself\u001b[0m\u001b[0;34m)\u001b[0m\u001b[0;34m\u001b[0m\u001b[0;34m\u001b[0m\u001b[0m\n\u001b[1;32m    870\u001b[0m         \u001b[0;32mtry\u001b[0m\u001b[0;34m:\u001b[0m\u001b[0;34m\u001b[0m\u001b[0;34m\u001b[0m\u001b[0m\n\u001b[0;32m--> 871\u001b[0;31m             \u001b[0mresult\u001b[0m \u001b[0;34m=\u001b[0m \u001b[0mself\u001b[0m\u001b[0;34m.\u001b[0m\u001b[0mindex\u001b[0m\u001b[0;34m.\u001b[0m\u001b[0mget_value\u001b[0m\u001b[0;34m(\u001b[0m\u001b[0mself\u001b[0m\u001b[0;34m,\u001b[0m \u001b[0mkey\u001b[0m\u001b[0;34m)\u001b[0m\u001b[0;34m\u001b[0m\u001b[0;34m\u001b[0m\u001b[0m\n\u001b[0m\u001b[1;32m    872\u001b[0m \u001b[0;34m\u001b[0m\u001b[0m\n\u001b[1;32m    873\u001b[0m             \u001b[0;32mif\u001b[0m \u001b[0;32mnot\u001b[0m \u001b[0mis_scalar\u001b[0m\u001b[0;34m(\u001b[0m\u001b[0mresult\u001b[0m\u001b[0;34m)\u001b[0m\u001b[0;34m:\u001b[0m\u001b[0;34m\u001b[0m\u001b[0;34m\u001b[0m\u001b[0m\n",
      "\u001b[0;32m~/anaconda3/lib/python3.7/site-packages/pandas/core/indexes/base.py\u001b[0m in \u001b[0;36mget_value\u001b[0;34m(self, series, key)\u001b[0m\n\u001b[1;32m   4401\u001b[0m         \u001b[0mk\u001b[0m \u001b[0;34m=\u001b[0m \u001b[0mcom\u001b[0m\u001b[0;34m.\u001b[0m\u001b[0mvalues_from_object\u001b[0m\u001b[0;34m(\u001b[0m\u001b[0mkey\u001b[0m\u001b[0;34m)\u001b[0m\u001b[0;34m\u001b[0m\u001b[0;34m\u001b[0m\u001b[0m\n\u001b[1;32m   4402\u001b[0m \u001b[0;34m\u001b[0m\u001b[0m\n\u001b[0;32m-> 4403\u001b[0;31m         \u001b[0mk\u001b[0m \u001b[0;34m=\u001b[0m \u001b[0mself\u001b[0m\u001b[0;34m.\u001b[0m\u001b[0m_convert_scalar_indexer\u001b[0m\u001b[0;34m(\u001b[0m\u001b[0mk\u001b[0m\u001b[0;34m,\u001b[0m \u001b[0mkind\u001b[0m\u001b[0;34m=\u001b[0m\u001b[0;34m\"getitem\"\u001b[0m\u001b[0;34m)\u001b[0m\u001b[0;34m\u001b[0m\u001b[0;34m\u001b[0m\u001b[0m\n\u001b[0m\u001b[1;32m   4404\u001b[0m         \u001b[0;32mtry\u001b[0m\u001b[0;34m:\u001b[0m\u001b[0;34m\u001b[0m\u001b[0;34m\u001b[0m\u001b[0m\n\u001b[1;32m   4405\u001b[0m             \u001b[0;32mreturn\u001b[0m \u001b[0mself\u001b[0m\u001b[0;34m.\u001b[0m\u001b[0m_engine\u001b[0m\u001b[0;34m.\u001b[0m\u001b[0mget_value\u001b[0m\u001b[0;34m(\u001b[0m\u001b[0ms\u001b[0m\u001b[0;34m,\u001b[0m \u001b[0mk\u001b[0m\u001b[0;34m,\u001b[0m \u001b[0mtz\u001b[0m\u001b[0;34m=\u001b[0m\u001b[0mgetattr\u001b[0m\u001b[0;34m(\u001b[0m\u001b[0mseries\u001b[0m\u001b[0;34m.\u001b[0m\u001b[0mdtype\u001b[0m\u001b[0;34m,\u001b[0m \u001b[0;34m\"tz\"\u001b[0m\u001b[0;34m,\u001b[0m \u001b[0;32mNone\u001b[0m\u001b[0;34m)\u001b[0m\u001b[0;34m)\u001b[0m\u001b[0;34m\u001b[0m\u001b[0;34m\u001b[0m\u001b[0m\n",
      "\u001b[0;32m~/anaconda3/lib/python3.7/site-packages/pandas/core/indexes/numeric.py\u001b[0m in \u001b[0;36m_convert_scalar_indexer\u001b[0;34m(self, key, kind)\u001b[0m\n\u001b[1;32m    266\u001b[0m         \u001b[0;32mif\u001b[0m \u001b[0mkind\u001b[0m \u001b[0;34m!=\u001b[0m \u001b[0;34m\"iloc\"\u001b[0m\u001b[0;34m:\u001b[0m\u001b[0;34m\u001b[0m\u001b[0;34m\u001b[0m\u001b[0m\n\u001b[1;32m    267\u001b[0m             \u001b[0mkey\u001b[0m \u001b[0;34m=\u001b[0m \u001b[0mself\u001b[0m\u001b[0;34m.\u001b[0m\u001b[0m_maybe_cast_indexer\u001b[0m\u001b[0;34m(\u001b[0m\u001b[0mkey\u001b[0m\u001b[0;34m)\u001b[0m\u001b[0;34m\u001b[0m\u001b[0;34m\u001b[0m\u001b[0m\n\u001b[0;32m--> 268\u001b[0;31m         \u001b[0;32mreturn\u001b[0m \u001b[0msuper\u001b[0m\u001b[0;34m(\u001b[0m\u001b[0;34m)\u001b[0m\u001b[0;34m.\u001b[0m\u001b[0m_convert_scalar_indexer\u001b[0m\u001b[0;34m(\u001b[0m\u001b[0mkey\u001b[0m\u001b[0;34m,\u001b[0m \u001b[0mkind\u001b[0m\u001b[0;34m=\u001b[0m\u001b[0mkind\u001b[0m\u001b[0;34m)\u001b[0m\u001b[0;34m\u001b[0m\u001b[0;34m\u001b[0m\u001b[0m\n\u001b[0m\u001b[1;32m    269\u001b[0m \u001b[0;34m\u001b[0m\u001b[0m\n\u001b[1;32m    270\u001b[0m     \u001b[0;32mdef\u001b[0m \u001b[0m_wrap_joined_index\u001b[0m\u001b[0;34m(\u001b[0m\u001b[0mself\u001b[0m\u001b[0;34m,\u001b[0m \u001b[0mjoined\u001b[0m\u001b[0;34m,\u001b[0m \u001b[0mother\u001b[0m\u001b[0;34m)\u001b[0m\u001b[0;34m:\u001b[0m\u001b[0;34m\u001b[0m\u001b[0;34m\u001b[0m\u001b[0m\n",
      "\u001b[0;31mKeyboardInterrupt\u001b[0m: "
     ]
    }
   ],
   "source": [
    "label = []\n",
    "s = time.time()\n",
    "for i in range(news.shape[0]):\n",
    "    b = 0\n",
    "    if i % 5000 == 0:\n",
    "        print(i, time.time()-s)\n",
    "        s = time.time()\n",
    "    tmp_1 = news['post_time'][i][2:-9]\n",
    "    dt = datetime.strptime(tmp_1, '%y/%m/%d')\n",
    "    tmp_1 = str(dt)\n",
    "    tmp_1 = tmp_1[:10]\n",
    "    for j in range(stock.shape[0]):\n",
    "        tmp_2 = stock['年月日'][j][:10]\n",
    "        #print(tmp_2)\n",
    "        if tmp_1 == tmp_2:\n",
    "            label.append([stock['三天後漲'][j],stock['五天後漲'][j],stock['十天後漲'][j]])\n",
    "            b = 1\n",
    "            break\n",
    "    if not b:\n",
    "        label.append([-1,-1,-1])\n",
    "label = np.array(label)\n",
    "print(label.shape)"
   ]
  },
  {
   "cell_type": "code",
   "execution_count": null,
   "metadata": {},
   "outputs": [],
   "source": [
    "np.save('label.npy', label)\n",
    "#label = np.load('label.npy')\n",
    "news['label_3'] = label[:,0]\n",
    "news['label_5'] = label[:,1]\n",
    "news['label_10'] = label[:,2]"
   ]
  },
  {
   "cell_type": "code",
   "execution_count": null,
   "metadata": {},
   "outputs": [],
   "source": [
    "news"
   ]
  },
  {
   "cell_type": "code",
   "execution_count": null,
   "metadata": {},
   "outputs": [],
   "source": [
    "news.to_csv('label_news.csv', index = False)"
   ]
  }
 ],
 "metadata": {
  "kernelspec": {
   "display_name": "Python 3",
   "language": "python",
   "name": "python3"
  },
  "language_info": {
   "codemirror_mode": {
    "name": "ipython",
    "version": 3
   },
   "file_extension": ".py",
   "mimetype": "text/x-python",
   "name": "python",
   "nbconvert_exporter": "python",
   "pygments_lexer": "ipython3",
   "version": "3.7.6"
  }
 },
 "nbformat": 4,
 "nbformat_minor": 4
}
